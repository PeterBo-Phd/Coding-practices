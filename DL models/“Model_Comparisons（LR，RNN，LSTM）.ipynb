{
  "nbformat": 4,
  "nbformat_minor": 0,
  "metadata": {
    "colab": {
      "name": "“Model Comparisons（LR，RNN，LSTM）",
      "private_outputs": true,
      "provenance": [],
      "collapsed_sections": []
    },
    "kernelspec": {
      "name": "python3",
      "display_name": "Python 3"
    },
    "language_info": {
      "name": "python"
    }
  },
  "cells": [
    {
      "cell_type": "markdown",
      "metadata": {
        "id": "OJnyYxB6L3hu"
      },
      "source": [
        "# **LSTM/RNN Neural Network Framework**"
      ]
    },
    {
      "cell_type": "code",
      "metadata": {
        "id": "gf0W7VQwTujj"
      },
      "source": [
        "%matplotlib inline\n",
        "import numpy as np\n",
        "import pandas as pd\n",
        "import matplotlib.pyplot as plt\n",
        "import seaborn as sns; sns.set()\n",
        "import math\n",
        "from sklearn.metrics import accuracy_score"
      ],
      "execution_count": null,
      "outputs": []
    },
    {
      "cell_type": "code",
      "metadata": {
        "id": "xKn5XzgM16rD"
      },
      "source": [
        "df = pd.read_excel('S&P 500 .xlsx')"
      ],
      "execution_count": null,
      "outputs": []
    },
    {
      "cell_type": "code",
      "metadata": {
        "id": "nDzP0pDLT9ee"
      },
      "source": [
        "\n",
        "df"
      ],
      "execution_count": null,
      "outputs": []
    },
    {
      "cell_type": "code",
      "metadata": {
        "id": "BIq_PkUfUE3i"
      },
      "source": [
        "df.describe ().round(4)"
      ],
      "execution_count": null,
      "outputs": []
    },
    {
      "cell_type": "code",
      "metadata": {
        "id": "7Ouvurt6VM8k"
      },
      "source": [
        "df.tail(10)"
      ],
      "execution_count": null,
      "outputs": []
    },
    {
      "cell_type": "code",
      "metadata": {
        "id": "pph1hscMWr0x"
      },
      "source": [
        "df.info()"
      ],
      "execution_count": null,
      "outputs": []
    },
    {
      "cell_type": "code",
      "metadata": {
        "id": "kr9oX6A5Wt7W"
      },
      "source": [
        "plt.figure(figsize=(16,8))\n",
        "plt.title('Return on the S&P 500 index')\n",
        "plt.plot(df['Return on the S&P 500 Index'], color = 'purple')\n",
        "plt.xlabel('Date', fontsize=18)\n",
        "plt.ylabel('Daily return USD ($)', fontsize=18)"
      ],
      "execution_count": null,
      "outputs": []
    },
    {
      "cell_type": "code",
      "metadata": {
        "id": "JmrjxOs8XkZP"
      },
      "source": [
        "plt.figure(figsize=(16,8))\n",
        "plt.title('S&P 500 index close price')\n",
        "plt.plot(df['Level of the S&P 500 Index'], color = 'blue')\n",
        "plt.xlabel('Date', fontsize=18)\n",
        "plt.ylabel('Close Price USD ($)', fontsize=18)"
      ],
      "execution_count": null,
      "outputs": []
    },
    {
      "cell_type": "code",
      "metadata": {
        "id": "4PpBWxcV7AI3"
      },
      "source": [
        "data= df[['Value-Weighted Return-incl. dividends','Value-Weighted Return-excl. dividends','Equal-Weighted Return-incl. dividends','Equal-Weighted Return-excl. dividends','Return on the S&P 500 Index']]\n",
        "#target = df['Return on the S&P 500 Index']"
      ],
      "execution_count": null,
      "outputs": []
    },
    {
      "cell_type": "code",
      "metadata": {
        "id": "X1kBZ0OM7cJ7"
      },
      "source": [
        "data"
      ],
      "execution_count": null,
      "outputs": []
    },
    {
      "cell_type": "code",
      "metadata": {
        "id": "WczVjXFX-owc"
      },
      "source": [
        "from sklearn.linear_model import LinearRegression\n",
        "from sklearn.model_selection import KFold\n",
        "import sklearn.metrics as sm\n",
        "from sklearn.preprocessing import MinMaxScaler\n",
        "# kf = KFold(n_splits=5, shuffle=True, random_state=42)\n",
        "\n"
      ],
      "execution_count": null,
      "outputs": []
    },
    {
      "cell_type": "code",
      "metadata": {
        "id": "wcisJ8JmPRRf"
      },
      "source": [
        "def get_data():\n",
        "\n",
        "  scaler = MinMaxScaler(feature_range=(0,1))\n",
        "  scaled_data = scaler.fit_transform(data)\n",
        "  print(scaled_data,scaled_data.shape)\n",
        "\n",
        "  dataset = data.values\n",
        "# Get the number of rows to train the model on\n",
        "  training_data_len = int(np.ceil( len(dataset) * .8 ))\n",
        "\n",
        "  print(training_data_len)\n",
        "  # Create the training data set \n",
        "  # Create the scaled training data set\n",
        "  train_data = scaled_data[0:int(training_data_len), :]\n",
        "  #target_data = target[0:int(training_data_len)]\n",
        "  # Split the data into x_train and y_train data sets\n",
        "  x_train = []\n",
        "  y_train = []\n",
        "\n",
        "  for i in range(30, len(train_data)):\n",
        "      x_train.append(train_data[i-30:i,:])\n",
        "      y_train.append(train_data[i,-1])\n",
        "      if i <= 31:\n",
        "          # print(x_train)\n",
        "          # print(y_train)\n",
        "          print()\n",
        "          \n",
        "  # Convert the x_train and y_train to numpy arrays \n",
        "  x_train, y_train = np.array(x_train), np.array(y_train)\n",
        "\n",
        "  # Reshape the data\n",
        "  x_train = np.reshape(x_train, (x_train.shape[0], x_train.shape[1], x_train.shape[2]))\n",
        "  print(x_train.shape,y_train.shape)\n",
        "\n",
        "  # Create the testing data set\n",
        "# Create a new array containing scaled values from index 1543 to 2002 \n",
        "  test_data = scaled_data[training_data_len - 30: , :]\n",
        "  # Create the data sets x_test and y_test\n",
        "  x_test = []\n",
        "  y_test = scaled_data[training_data_len:,-1]\n",
        "  for i in range(30, len(test_data)):\n",
        "      x_test.append(test_data[i-30:i, :])\n",
        "      \n",
        "  # Convert the data to a numpy array\n",
        "  x_test = np.array(x_test)\n",
        "\n",
        "  # Reshape the data\n",
        "  # x_test = np.reshape(x_test, (x_test.shape[0], x_test.shape[1], 1 ))\n",
        "\n",
        "  print(x_test.shape,y_test.shape)\n",
        "  return x_train,y_train,x_test,y_test,scaler,scaled_data,training_data_len"
      ],
      "execution_count": null,
      "outputs": []
    },
    {
      "cell_type": "code",
      "metadata": {
        "id": "OmT5V97QY1mV"
      },
      "source": [
        "# Create a new dataframe with only the 'Close column \n",
        "\n",
        "# Convert the dataframe to a numpy array\n",
        "x_train,y_train,x_test,y_test,scaler,scaled_data,training_data_len = get_data()"
      ],
      "execution_count": null,
      "outputs": []
    },
    {
      "cell_type": "code",
      "metadata": {
        "id": "ra-dhhf3P_PK"
      },
      "source": [
        "def get_predictions(model):\n",
        "    # Get the models predicted price values \n",
        "    predictions = model.predict(x_test)\n",
        "    print(model.evaluate(x_test,y_test))\n",
        "    tmp = scaled_data[training_data_len: , :]\n",
        "    print(tmp.shape,predictions.shape)\n",
        "    \n",
        "    tmp[:,-1] = predictions.reshape(tmp.shape[0])\n",
        "    tmpss = scaler.inverse_transform(tmp)\n",
        "    print(tmpss.shape)\n",
        "\n",
        "    # Get the root mean squared error (RMSE)\n",
        "    # rmse = np.sqrt(np.mean(((predictions - y_test) ** 2)))\n",
        "    # print(\"rmse\", rmse)\n",
        "    return tmpss[:,-1]\n",
        "    \n",
        "def draw(pred,training_data_len):\n",
        "  # Plot the data\n",
        "  train = df[:training_data_len]\n",
        "  valid = df[training_data_len:]\n",
        "  valid['Predictions'] = pred\n",
        "\n",
        "  # Visualize the data\n",
        "  plt.figure(figsize=(18,8))\n",
        "  plt.title('Model Prediction')\n",
        "  plt.xlabel('Date', fontsize=18)\n",
        "  plt.ylabel('Close Price USD ($)', fontsize=18)\n",
        "  plt.plot(train['Return on the S&P 500 Index'])\n",
        "  plt.plot(valid[['Return on the S&P 500 Index', 'Predictions']])\n",
        "  plt.legend(['Train', 'Val', 'Predictions'], loc='best')\n",
        "  plt.show()"
      ],
      "execution_count": null,
      "outputs": []
    },
    {
      "cell_type": "markdown",
      "metadata": {
        "id": "mtMEbN-6JeE8"
      },
      "source": [
        "**LinearRegression**"
      ]
    },
    {
      "cell_type": "code",
      "metadata": {
        "id": "YFMgqLd-JbWb"
      },
      "source": [
        "model = LinearRegression()\n",
        "model.fit(x_train.reshape((x_train.shape[0],x_train.shape[1]*x_train.shape[2])), y_train)\n",
        "\n",
        "predicts = model.predict(x_test.reshape((x_test.shape[0],x_test.shape[1]*x_test.shape[2])))\n",
        "print(sm.mean_squared_error(y_test,predicts))\n",
        "tmp = scaled_data[training_data_len: , :]\n",
        "tmp[:,-1] = predicts.reshape(tmp.shape[0])\n",
        "tmpss = scaler.inverse_transform(tmp)\n",
        "predicts = tmpss[:,-1]\n",
        "draw(predicts,training_data_len)"
      ],
      "execution_count": null,
      "outputs": []
    },
    {
      "cell_type": "markdown",
      "metadata": {
        "id": "eOwEpAg4Jbw0"
      },
      "source": [
        ""
      ]
    },
    {
      "cell_type": "markdown",
      "metadata": {
        "id": "VGzZqzeDGlBz"
      },
      "source": [
        "****LSTM****"
      ]
    },
    {
      "cell_type": "code",
      "metadata": {
        "id": "MU-dor7uY98a"
      },
      "source": [
        "from keras.models import Sequential\n",
        "from keras.layers import Dense, LSTM\n",
        "\n",
        "# Build the LSTM model\n",
        "lstm_model = Sequential()\n",
        "lstm_model.add(LSTM(65, return_sequences=True, input_shape= (x_train.shape[1:])))\n",
        "lstm_model.add(LSTM(32, return_sequences=False))\n",
        "lstm_model.add(Dense(16))\n",
        "lstm_model.add(Dense(1))\n",
        "\n",
        "lstm_model.summary()"
      ],
      "execution_count": null,
      "outputs": []
    },
    {
      "cell_type": "code",
      "metadata": {
        "id": "ELYhiaELZHBm"
      },
      "source": [
        "lstm_model.compile(optimizer='adam', loss='mean_squared_error')\n",
        "\n",
        "x_train,y_train,x_test,y_test,scaler,scaled_data,training_data_len = get_data()\n",
        "# Train the model\n",
        "print(\"Model training ...\")\n",
        "lstm_model.fit(x_train, y_train, batch_size=16, epochs=5)\n",
        "print(\"Finished!\")"
      ],
      "execution_count": null,
      "outputs": []
    },
    {
      "cell_type": "code",
      "metadata": {
        "id": "yyj8b8PrZlvV"
      },
      "source": [
        ""
      ],
      "execution_count": null,
      "outputs": []
    },
    {
      "cell_type": "code",
      "metadata": {
        "id": "W-kawLbxZpkY"
      },
      "source": [
        "lstm_pred = get_predictions(lstm_model)"
      ],
      "execution_count": null,
      "outputs": []
    },
    {
      "cell_type": "code",
      "metadata": {
        "id": "rhXTdElWZsaD"
      },
      "source": [
        "draw(lstm_pred,training_data_len)"
      ],
      "execution_count": null,
      "outputs": []
    },
    {
      "cell_type": "markdown",
      "metadata": {
        "id": "fbpypRuNIJey"
      },
      "source": [
        "**RNN**"
      ]
    },
    {
      "cell_type": "code",
      "metadata": {
        "id": "05cmp0AZIMTN"
      },
      "source": [
        "from keras.layers import Dense, GRU\n",
        "rnn_model = Sequential()\n",
        "rnn_model.add(GRU(64, return_sequences=True, input_shape= (x_train.shape[1:])))\n",
        "rnn_model.add(GRU(32, return_sequences=False))\n",
        "rnn_model.add(Dense(16))\n",
        "rnn_model.add(Dense(1))\n",
        "rnn_model.summary()"
      ],
      "execution_count": null,
      "outputs": []
    },
    {
      "cell_type": "code",
      "metadata": {
        "id": "AdQkn95HIdQt"
      },
      "source": [
        "rnn_model.compile(optimizer='adam', loss='mean_squared_error')\n",
        "\n",
        "x_train,y_train,x_test,y_test,scaler,scaled_data,training_data_len = get_data()\n",
        "# Train the model\n",
        "print(\"Model training ...\")\n",
        "rnn_model.fit(x_train, y_train, batch_size=16, epochs=5)\n",
        "print(\"Finished!\")"
      ],
      "execution_count": null,
      "outputs": []
    },
    {
      "cell_type": "code",
      "metadata": {
        "id": "L0txFnJCJF8G"
      },
      "source": [
        "rnn_pred = get_predictions(rnn_model)\n",
        "draw(rnn_pred,training_data_len)"
      ],
      "execution_count": null,
      "outputs": []
    }
  ]
}