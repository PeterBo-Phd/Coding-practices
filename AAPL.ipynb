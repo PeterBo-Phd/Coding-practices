{
  "nbformat": 4,
  "nbformat_minor": 0,
  "metadata": {
    "colab": {
      "name": "AAPL.ipynb",
      "provenance": [],
      "collapsed_sections": []
    },
    "kernelspec": {
      "name": "python3",
      "display_name": "Python 3"
    },
    "language_info": {
      "name": "python"
    },
    "accelerator": "GPU"
  },
  "cells": [
    {
      "cell_type": "code",
      "metadata": {
        "id": "JOODrhySS82n"
      },
      "source": [
        "import math\n",
        "import pandas_datareader as web\n",
        "import numpy as np\n",
        "import pandas as pd\n",
        "from sklearn.preprocessing import MinMaxScaler\n",
        "from keras.models import  Sequential\n",
        "from keras.layers import Dense, LSTM\n",
        "import matplotlib.pyplot as plt\n",
        "plt.style.use('fivethirtyeight')"
      ],
      "execution_count": 2,
      "outputs": []
    },
    {
      "cell_type": "code",
      "metadata": {
        "colab": {
          "base_uri": "https://localhost:8080/",
          "height": 450
        },
        "id": "V3s8H50rTfuR",
        "outputId": "f69fe6aa-d70b-49de-c495-53d49d6e3df0"
      },
      "source": [
        "#Get the stock code\n",
        "df = web.DataReader('AAPL', data_source= 'yahoo', start ='2010-01-01', end = '2020-12-31')\n",
        "df"
      ],
      "execution_count": 3,
      "outputs": [
        {
          "output_type": "execute_result",
          "data": {
            "text/html": [
              "<div>\n",
              "<style scoped>\n",
              "    .dataframe tbody tr th:only-of-type {\n",
              "        vertical-align: middle;\n",
              "    }\n",
              "\n",
              "    .dataframe tbody tr th {\n",
              "        vertical-align: top;\n",
              "    }\n",
              "\n",
              "    .dataframe thead th {\n",
              "        text-align: right;\n",
              "    }\n",
              "</style>\n",
              "<table border=\"1\" class=\"dataframe\">\n",
              "  <thead>\n",
              "    <tr style=\"text-align: right;\">\n",
              "      <th></th>\n",
              "      <th>High</th>\n",
              "      <th>Low</th>\n",
              "      <th>Open</th>\n",
              "      <th>Close</th>\n",
              "      <th>Volume</th>\n",
              "      <th>Adj Close</th>\n",
              "    </tr>\n",
              "    <tr>\n",
              "      <th>Date</th>\n",
              "      <th></th>\n",
              "      <th></th>\n",
              "      <th></th>\n",
              "      <th></th>\n",
              "      <th></th>\n",
              "      <th></th>\n",
              "    </tr>\n",
              "  </thead>\n",
              "  <tbody>\n",
              "    <tr>\n",
              "      <th>2010-01-04</th>\n",
              "      <td>7.660714</td>\n",
              "      <td>7.585000</td>\n",
              "      <td>7.622500</td>\n",
              "      <td>7.643214</td>\n",
              "      <td>493729600.0</td>\n",
              "      <td>6.583586</td>\n",
              "    </tr>\n",
              "    <tr>\n",
              "      <th>2010-01-05</th>\n",
              "      <td>7.699643</td>\n",
              "      <td>7.616071</td>\n",
              "      <td>7.664286</td>\n",
              "      <td>7.656429</td>\n",
              "      <td>601904800.0</td>\n",
              "      <td>6.594968</td>\n",
              "    </tr>\n",
              "    <tr>\n",
              "      <th>2010-01-06</th>\n",
              "      <td>7.686786</td>\n",
              "      <td>7.526786</td>\n",
              "      <td>7.656429</td>\n",
              "      <td>7.534643</td>\n",
              "      <td>552160000.0</td>\n",
              "      <td>6.490066</td>\n",
              "    </tr>\n",
              "    <tr>\n",
              "      <th>2010-01-07</th>\n",
              "      <td>7.571429</td>\n",
              "      <td>7.466071</td>\n",
              "      <td>7.562500</td>\n",
              "      <td>7.520714</td>\n",
              "      <td>477131200.0</td>\n",
              "      <td>6.478067</td>\n",
              "    </tr>\n",
              "    <tr>\n",
              "      <th>2010-01-08</th>\n",
              "      <td>7.571429</td>\n",
              "      <td>7.466429</td>\n",
              "      <td>7.510714</td>\n",
              "      <td>7.570714</td>\n",
              "      <td>447610800.0</td>\n",
              "      <td>6.521136</td>\n",
              "    </tr>\n",
              "    <tr>\n",
              "      <th>...</th>\n",
              "      <td>...</td>\n",
              "      <td>...</td>\n",
              "      <td>...</td>\n",
              "      <td>...</td>\n",
              "      <td>...</td>\n",
              "      <td>...</td>\n",
              "    </tr>\n",
              "    <tr>\n",
              "      <th>2020-12-24</th>\n",
              "      <td>133.460007</td>\n",
              "      <td>131.100006</td>\n",
              "      <td>131.320007</td>\n",
              "      <td>131.970001</td>\n",
              "      <td>54930100.0</td>\n",
              "      <td>131.773087</td>\n",
              "    </tr>\n",
              "    <tr>\n",
              "      <th>2020-12-28</th>\n",
              "      <td>137.339996</td>\n",
              "      <td>133.509995</td>\n",
              "      <td>133.990005</td>\n",
              "      <td>136.690002</td>\n",
              "      <td>124486200.0</td>\n",
              "      <td>136.486053</td>\n",
              "    </tr>\n",
              "    <tr>\n",
              "      <th>2020-12-29</th>\n",
              "      <td>138.789993</td>\n",
              "      <td>134.339996</td>\n",
              "      <td>138.050003</td>\n",
              "      <td>134.869995</td>\n",
              "      <td>121047300.0</td>\n",
              "      <td>134.668762</td>\n",
              "    </tr>\n",
              "    <tr>\n",
              "      <th>2020-12-30</th>\n",
              "      <td>135.990005</td>\n",
              "      <td>133.399994</td>\n",
              "      <td>135.580002</td>\n",
              "      <td>133.720001</td>\n",
              "      <td>96452100.0</td>\n",
              "      <td>133.520477</td>\n",
              "    </tr>\n",
              "    <tr>\n",
              "      <th>2020-12-31</th>\n",
              "      <td>134.740005</td>\n",
              "      <td>131.720001</td>\n",
              "      <td>134.080002</td>\n",
              "      <td>132.690002</td>\n",
              "      <td>99116600.0</td>\n",
              "      <td>132.492020</td>\n",
              "    </tr>\n",
              "  </tbody>\n",
              "</table>\n",
              "<p>2769 rows × 6 columns</p>\n",
              "</div>"
            ],
            "text/plain": [
              "                  High         Low  ...       Volume   Adj Close\n",
              "Date                                ...                         \n",
              "2010-01-04    7.660714    7.585000  ...  493729600.0    6.583586\n",
              "2010-01-05    7.699643    7.616071  ...  601904800.0    6.594968\n",
              "2010-01-06    7.686786    7.526786  ...  552160000.0    6.490066\n",
              "2010-01-07    7.571429    7.466071  ...  477131200.0    6.478067\n",
              "2010-01-08    7.571429    7.466429  ...  447610800.0    6.521136\n",
              "...                ...         ...  ...          ...         ...\n",
              "2020-12-24  133.460007  131.100006  ...   54930100.0  131.773087\n",
              "2020-12-28  137.339996  133.509995  ...  124486200.0  136.486053\n",
              "2020-12-29  138.789993  134.339996  ...  121047300.0  134.668762\n",
              "2020-12-30  135.990005  133.399994  ...   96452100.0  133.520477\n",
              "2020-12-31  134.740005  131.720001  ...   99116600.0  132.492020\n",
              "\n",
              "[2769 rows x 6 columns]"
            ]
          },
          "metadata": {
            "tags": []
          },
          "execution_count": 3
        }
      ]
    },
    {
      "cell_type": "code",
      "metadata": {
        "colab": {
          "base_uri": "https://localhost:8080/",
          "height": 235
        },
        "id": "BkfDJPwzT2S7",
        "outputId": "5081d652-5fe1-421c-fe69-9761cc7891dc"
      },
      "source": [
        "df.head()"
      ],
      "execution_count": 4,
      "outputs": [
        {
          "output_type": "execute_result",
          "data": {
            "text/html": [
              "<div>\n",
              "<style scoped>\n",
              "    .dataframe tbody tr th:only-of-type {\n",
              "        vertical-align: middle;\n",
              "    }\n",
              "\n",
              "    .dataframe tbody tr th {\n",
              "        vertical-align: top;\n",
              "    }\n",
              "\n",
              "    .dataframe thead th {\n",
              "        text-align: right;\n",
              "    }\n",
              "</style>\n",
              "<table border=\"1\" class=\"dataframe\">\n",
              "  <thead>\n",
              "    <tr style=\"text-align: right;\">\n",
              "      <th></th>\n",
              "      <th>High</th>\n",
              "      <th>Low</th>\n",
              "      <th>Open</th>\n",
              "      <th>Close</th>\n",
              "      <th>Volume</th>\n",
              "      <th>Adj Close</th>\n",
              "    </tr>\n",
              "    <tr>\n",
              "      <th>Date</th>\n",
              "      <th></th>\n",
              "      <th></th>\n",
              "      <th></th>\n",
              "      <th></th>\n",
              "      <th></th>\n",
              "      <th></th>\n",
              "    </tr>\n",
              "  </thead>\n",
              "  <tbody>\n",
              "    <tr>\n",
              "      <th>2010-01-04</th>\n",
              "      <td>7.660714</td>\n",
              "      <td>7.585000</td>\n",
              "      <td>7.622500</td>\n",
              "      <td>7.643214</td>\n",
              "      <td>493729600.0</td>\n",
              "      <td>6.583586</td>\n",
              "    </tr>\n",
              "    <tr>\n",
              "      <th>2010-01-05</th>\n",
              "      <td>7.699643</td>\n",
              "      <td>7.616071</td>\n",
              "      <td>7.664286</td>\n",
              "      <td>7.656429</td>\n",
              "      <td>601904800.0</td>\n",
              "      <td>6.594968</td>\n",
              "    </tr>\n",
              "    <tr>\n",
              "      <th>2010-01-06</th>\n",
              "      <td>7.686786</td>\n",
              "      <td>7.526786</td>\n",
              "      <td>7.656429</td>\n",
              "      <td>7.534643</td>\n",
              "      <td>552160000.0</td>\n",
              "      <td>6.490066</td>\n",
              "    </tr>\n",
              "    <tr>\n",
              "      <th>2010-01-07</th>\n",
              "      <td>7.571429</td>\n",
              "      <td>7.466071</td>\n",
              "      <td>7.562500</td>\n",
              "      <td>7.520714</td>\n",
              "      <td>477131200.0</td>\n",
              "      <td>6.478067</td>\n",
              "    </tr>\n",
              "    <tr>\n",
              "      <th>2010-01-08</th>\n",
              "      <td>7.571429</td>\n",
              "      <td>7.466429</td>\n",
              "      <td>7.510714</td>\n",
              "      <td>7.570714</td>\n",
              "      <td>447610800.0</td>\n",
              "      <td>6.521136</td>\n",
              "    </tr>\n",
              "  </tbody>\n",
              "</table>\n",
              "</div>"
            ],
            "text/plain": [
              "                High       Low      Open     Close       Volume  Adj Close\n",
              "Date                                                                      \n",
              "2010-01-04  7.660714  7.585000  7.622500  7.643214  493729600.0   6.583586\n",
              "2010-01-05  7.699643  7.616071  7.664286  7.656429  601904800.0   6.594968\n",
              "2010-01-06  7.686786  7.526786  7.656429  7.534643  552160000.0   6.490066\n",
              "2010-01-07  7.571429  7.466071  7.562500  7.520714  477131200.0   6.478067\n",
              "2010-01-08  7.571429  7.466429  7.510714  7.570714  447610800.0   6.521136"
            ]
          },
          "metadata": {
            "tags": []
          },
          "execution_count": 4
        }
      ]
    },
    {
      "cell_type": "code",
      "metadata": {
        "colab": {
          "base_uri": "https://localhost:8080/",
          "height": 235
        },
        "id": "WRLugw6kT6FP",
        "outputId": "e8403171-56fb-474e-c962-6efd77fa2d4d"
      },
      "source": [
        "df.tail()"
      ],
      "execution_count": 5,
      "outputs": [
        {
          "output_type": "execute_result",
          "data": {
            "text/html": [
              "<div>\n",
              "<style scoped>\n",
              "    .dataframe tbody tr th:only-of-type {\n",
              "        vertical-align: middle;\n",
              "    }\n",
              "\n",
              "    .dataframe tbody tr th {\n",
              "        vertical-align: top;\n",
              "    }\n",
              "\n",
              "    .dataframe thead th {\n",
              "        text-align: right;\n",
              "    }\n",
              "</style>\n",
              "<table border=\"1\" class=\"dataframe\">\n",
              "  <thead>\n",
              "    <tr style=\"text-align: right;\">\n",
              "      <th></th>\n",
              "      <th>High</th>\n",
              "      <th>Low</th>\n",
              "      <th>Open</th>\n",
              "      <th>Close</th>\n",
              "      <th>Volume</th>\n",
              "      <th>Adj Close</th>\n",
              "    </tr>\n",
              "    <tr>\n",
              "      <th>Date</th>\n",
              "      <th></th>\n",
              "      <th></th>\n",
              "      <th></th>\n",
              "      <th></th>\n",
              "      <th></th>\n",
              "      <th></th>\n",
              "    </tr>\n",
              "  </thead>\n",
              "  <tbody>\n",
              "    <tr>\n",
              "      <th>2020-12-24</th>\n",
              "      <td>133.460007</td>\n",
              "      <td>131.100006</td>\n",
              "      <td>131.320007</td>\n",
              "      <td>131.970001</td>\n",
              "      <td>54930100.0</td>\n",
              "      <td>131.773087</td>\n",
              "    </tr>\n",
              "    <tr>\n",
              "      <th>2020-12-28</th>\n",
              "      <td>137.339996</td>\n",
              "      <td>133.509995</td>\n",
              "      <td>133.990005</td>\n",
              "      <td>136.690002</td>\n",
              "      <td>124486200.0</td>\n",
              "      <td>136.486053</td>\n",
              "    </tr>\n",
              "    <tr>\n",
              "      <th>2020-12-29</th>\n",
              "      <td>138.789993</td>\n",
              "      <td>134.339996</td>\n",
              "      <td>138.050003</td>\n",
              "      <td>134.869995</td>\n",
              "      <td>121047300.0</td>\n",
              "      <td>134.668762</td>\n",
              "    </tr>\n",
              "    <tr>\n",
              "      <th>2020-12-30</th>\n",
              "      <td>135.990005</td>\n",
              "      <td>133.399994</td>\n",
              "      <td>135.580002</td>\n",
              "      <td>133.720001</td>\n",
              "      <td>96452100.0</td>\n",
              "      <td>133.520477</td>\n",
              "    </tr>\n",
              "    <tr>\n",
              "      <th>2020-12-31</th>\n",
              "      <td>134.740005</td>\n",
              "      <td>131.720001</td>\n",
              "      <td>134.080002</td>\n",
              "      <td>132.690002</td>\n",
              "      <td>99116600.0</td>\n",
              "      <td>132.492020</td>\n",
              "    </tr>\n",
              "  </tbody>\n",
              "</table>\n",
              "</div>"
            ],
            "text/plain": [
              "                  High         Low  ...       Volume   Adj Close\n",
              "Date                                ...                         \n",
              "2020-12-24  133.460007  131.100006  ...   54930100.0  131.773087\n",
              "2020-12-28  137.339996  133.509995  ...  124486200.0  136.486053\n",
              "2020-12-29  138.789993  134.339996  ...  121047300.0  134.668762\n",
              "2020-12-30  135.990005  133.399994  ...   96452100.0  133.520477\n",
              "2020-12-31  134.740005  131.720001  ...   99116600.0  132.492020\n",
              "\n",
              "[5 rows x 6 columns]"
            ]
          },
          "metadata": {
            "tags": []
          },
          "execution_count": 5
        }
      ]
    },
    {
      "cell_type": "code",
      "metadata": {
        "colab": {
          "base_uri": "https://localhost:8080/"
        },
        "id": "1qLTB_O2T80Z",
        "outputId": "d9436e40-bc1c-4081-e5d9-4e33a5c2253e"
      },
      "source": [
        "#Get the number of the rows and columns in the data set\n",
        "df.shape"
      ],
      "execution_count": 6,
      "outputs": [
        {
          "output_type": "execute_result",
          "data": {
            "text/plain": [
              "(2769, 6)"
            ]
          },
          "metadata": {
            "tags": []
          },
          "execution_count": 6
        }
      ]
    },
    {
      "cell_type": "code",
      "metadata": {
        "colab": {
          "base_uri": "https://localhost:8080/",
          "height": 558
        },
        "id": "j_6sYg8FUt1w",
        "outputId": "2ebbfca6-d7b2-4b75-8d53-43507fcbe7f7"
      },
      "source": [
        "#Visualize the closing price\n",
        "plt.figure(figsize=(16,8))\n",
        "plt.title('Close price History')\n",
        "plt.plot(df['Close'])\n",
        "plt.xlabel('Date', fontsize= 18)\n",
        "plt.ylabel('Close Price USD ($)', fontsize= 18)\n",
        "plt.show()"
      ],
      "execution_count": 7,
      "outputs": [
        {
          "output_type": "display_data",
          "data": {
            "image/png": "[encoded data removed]",
            "text/plain": [
              "<Figure size 1152x576 with 1 Axes>"
            ]
          },
          "metadata": {
            "tags": []
          }
        }
      ]
    },
    {
      "cell_type": "code",
      "metadata": {
        "colab": {
          "base_uri": "https://localhost:8080/"
        },
        "id": "s4Wi8kG0VSto",
        "outputId": "b71f2f37-a755-4480-acfc-2c8f4a66ef84"
      },
      "source": [
        "#Create a new dataframe with only the close column\n",
        "data = df.filter(['Close'])\n",
        "#Convert the dataframe to a numpy array\n",
        "dataset = data.values\n",
        "#Get the number of rows to train the model on\n",
        "training_data_len =math.ceil(len(dataset) * .8)\n",
        "\n",
        "training_data_len"
      ],
      "execution_count": 8,
      "outputs": [
        {
          "output_type": "execute_result",
          "data": {
            "text/plain": [
              "2216"
            ]
          },
          "metadata": {
            "tags": []
          },
          "execution_count": 8
        }
      ]
    },
    {
      "cell_type": "code",
      "metadata": {
        "colab": {
          "base_uri": "https://localhost:8080/"
        },
        "id": "deN1OTeCXQy7",
        "outputId": "4c8c561a-3377-48cc-94d3-cbb027a7f007"
      },
      "source": [
        "#Scale the data\n",
        "scaler = MinMaxScaler(feature_range=(0,1))\n",
        "scaled_data = scaler.fit_transform(dataset)\n",
        "\n",
        "scaled_data"
      ],
      "execution_count": 9,
      "outputs": [
        {
          "output_type": "execute_result",
          "data": {
            "text/plain": [
              "array([[0.00604081],\n",
              "       [0.00614259],\n",
              "       [0.00520456],\n",
              "       ...,\n",
              "       [0.98598173],\n",
              "       [0.97712411],\n",
              "       [0.96919073]])"
            ]
          },
          "metadata": {
            "tags": []
          },
          "execution_count": 9
        }
      ]
    },
    {
      "cell_type": "code",
      "metadata": {
        "colab": {
          "base_uri": "https://localhost:8080/"
        },
        "id": "vvUwRS9yXuft",
        "outputId": "11a6df8f-0a4d-4308-ea9f-cf1be8ba7681"
      },
      "source": [
        "#create the training data set\n",
        "#create the scaled training set\n",
        "train_data = scaled_data[0: training_data_len, :]\n",
        "#split the data into x_train and y_train data sets\n",
        "x_train = []\n",
        "y_train = []\n",
        " \n",
        "for i in range(60, len(train_data)):\n",
        "  x_train.append(train_data[i - 60: i, 0])\n",
        "  y_train.append(train_data[i, 0])\n",
        "  if i<= 61:\n",
        "    print(x_train)\n",
        "    print(y_train)\n",
        "    print"
      ],
      "execution_count": 10,
      "outputs": [
        {
          "output_type": "stream",
          "text": [
            "[array([6.04081172e-03, 6.14259465e-03, 5.20456312e-03, 5.09727473e-03,\n",
            "       5.48239202e-03, 4.96799391e-03, 4.31053849e-03, 5.11653096e-03,\n",
            "       4.78093337e-03, 3.81814383e-03, 6.32414606e-03, 5.41362711e-03,\n",
            "       4.40681597e-03, 1.56796703e-03, 3.03140758e-03, 3.82089472e-03,\n",
            "       4.35455640e-03, 1.99159311e-03, 2.74721748e-06, 7.37216546e-04,\n",
            "       1.04805980e-03, 1.97508777e-03, 0.00000000e+00, 9.38024188e-04,\n",
            "       5.69415915e-04, 1.13883917e-03, 8.44497592e-04, 1.82104159e-03,\n",
            "       2.29143647e-03, 3.12218696e-03, 2.88836864e-03, 2.99289512e-03,\n",
            "       2.64629030e-03, 2.30243636e-03, 1.37815928e-03, 2.36846140e-03,\n",
            "       2.73706967e-03, 3.45778455e-03, 4.65990155e-03, 4.62138908e-03,\n",
            "       4.75342080e-03, 5.13303630e-03, 7.39972211e-03, 7.43548368e-03,\n",
            "       8.51930872e-03, 9.01995606e-03, 9.20150747e-03, 9.50410539e-03,\n",
            "       8.74487805e-03, 8.91267501e-03, 8.82189930e-03, 8.96769281e-03,\n",
            "       8.30749385e-03, 8.99520172e-03, 9.98824738e-03, 1.02660836e-02,\n",
            "       9.51785617e-03, 1.06869662e-02, 1.10968304e-02, 1.20486164e-02])]\n",
            "[0.011814794423567206]\n",
            "[array([6.04081172e-03, 6.14259465e-03, 5.20456312e-03, 5.09727473e-03,\n",
            "       5.48239202e-03, 4.96799391e-03, 4.31053849e-03, 5.11653096e-03,\n",
            "       4.78093337e-03, 3.81814383e-03, 6.32414606e-03, 5.41362711e-03,\n",
            "       4.40681597e-03, 1.56796703e-03, 3.03140758e-03, 3.82089472e-03,\n",
            "       4.35455640e-03, 1.99159311e-03, 2.74721748e-06, 7.37216546e-04,\n",
            "       1.04805980e-03, 1.97508777e-03, 0.00000000e+00, 9.38024188e-04,\n",
            "       5.69415915e-04, 1.13883917e-03, 8.44497592e-04, 1.82104159e-03,\n",
            "       2.29143647e-03, 3.12218696e-03, 2.88836864e-03, 2.99289512e-03,\n",
            "       2.64629030e-03, 2.30243636e-03, 1.37815928e-03, 2.36846140e-03,\n",
            "       2.73706967e-03, 3.45778455e-03, 4.65990155e-03, 4.62138908e-03,\n",
            "       4.75342080e-03, 5.13303630e-03, 7.39972211e-03, 7.43548368e-03,\n",
            "       8.51930872e-03, 9.01995606e-03, 9.20150747e-03, 9.50410539e-03,\n",
            "       8.74487805e-03, 8.91267501e-03, 8.82189930e-03, 8.96769281e-03,\n",
            "       8.30749385e-03, 8.99520172e-03, 9.98824738e-03, 1.02660836e-02,\n",
            "       9.51785617e-03, 1.06869662e-02, 1.10968304e-02, 1.20486164e-02]), array([6.14259465e-03, 5.20456312e-03, 5.09727473e-03, 5.48239202e-03,\n",
            "       4.96799391e-03, 4.31053849e-03, 5.11653096e-03, 4.78093337e-03,\n",
            "       3.81814383e-03, 6.32414606e-03, 5.41362711e-03, 4.40681597e-03,\n",
            "       1.56796703e-03, 3.03140758e-03, 3.82089472e-03, 4.35455640e-03,\n",
            "       1.99159311e-03, 2.74721748e-06, 7.37216546e-04, 1.04805980e-03,\n",
            "       1.97508777e-03, 0.00000000e+00, 9.38024188e-04, 5.69415915e-04,\n",
            "       1.13883917e-03, 8.44497592e-04, 1.82104159e-03, 2.29143647e-03,\n",
            "       3.12218696e-03, 2.88836864e-03, 2.99289512e-03, 2.64629030e-03,\n",
            "       2.30243636e-03, 1.37815928e-03, 2.36846140e-03, 2.73706967e-03,\n",
            "       3.45778455e-03, 4.65990155e-03, 4.62138908e-03, 4.75342080e-03,\n",
            "       5.13303630e-03, 7.39972211e-03, 7.43548368e-03, 8.51930872e-03,\n",
            "       9.01995606e-03, 9.20150747e-03, 9.50410539e-03, 8.74487805e-03,\n",
            "       8.91267501e-03, 8.82189930e-03, 8.96769281e-03, 8.30749385e-03,\n",
            "       8.99520172e-03, 9.98824738e-03, 1.02660836e-02, 9.51785617e-03,\n",
            "       1.06869662e-02, 1.10968304e-02, 1.20486164e-02, 1.18147944e-02])]\n",
            "[0.011814794423567206, 0.01208162710346005]\n"
          ],
          "name": "stdout"
        }
      ]
    },
    {
      "cell_type": "code",
      "metadata": {
        "id": "PDZ-kXBjZamw"
      },
      "source": [
        "#Convert the x_train and y_train to numpy arrays\n",
        "x_train, y_train = np.array(x_train), np.array(y_train)"
      ],
      "execution_count": 11,
      "outputs": []
    },
    {
      "cell_type": "code",
      "metadata": {
        "colab": {
          "base_uri": "https://localhost:8080/"
        },
        "id": "5NyRklzhaEsq",
        "outputId": "18ab5dcf-8371-4443-b23f-cba58a024681"
      },
      "source": [
        "#Reshape the data\n",
        "x_train = np.reshape(x_train, (x_train.shape[0], x_train.shape[1], 1))\n",
        "x_train.shape"
      ],
      "execution_count": 12,
      "outputs": [
        {
          "output_type": "execute_result",
          "data": {
            "text/plain": [
              "(2156, 60, 1)"
            ]
          },
          "metadata": {
            "tags": []
          },
          "execution_count": 12
        }
      ]
    },
    {
      "cell_type": "code",
      "metadata": {
        "id": "ccgqpabkaLAi"
      },
      "source": [
        "#Build the LSTM model\n",
        "model = Sequential()\n",
        "model.add(LSTM(50, return_sequences=True, input_shape= (x_train.shape[1], 1)))\n",
        "model.add(LSTM(50, return_sequences=False))\n",
        "model.add(Dense(25))\n",
        "model.add(Dense(1))\n"
      ],
      "execution_count": 13,
      "outputs": []
    },
    {
      "cell_type": "code",
      "metadata": {
        "id": "b1qffmCzbGNW"
      },
      "source": [
        "#compile the model\n",
        "model.compile(optimizer='adam', loss= 'mean_squared_error')"
      ],
      "execution_count": 14,
      "outputs": []
    },
    {
      "cell_type": "code",
      "metadata": {
        "colab": {
          "base_uri": "https://localhost:8080/"
        },
        "id": "XrSoeTXCbSdn",
        "outputId": "039033b7-602c-43b0-e376-f93d9c9498ba"
      },
      "source": [
        "#train the model\n",
        "model.fit(x_train, y_train, batch_size = 1, epochs = 1)"
      ],
      "execution_count": 15,
      "outputs": [
        {
          "output_type": "stream",
          "text": [
            "2156/2156 [==============================] - 53s 23ms/step - loss: 4.3925e-04\n"
          ],
          "name": "stdout"
        },
        {
          "output_type": "execute_result",
          "data": {
            "text/plain": [
              "<tensorflow.python.keras.callbacks.History at 0x7f93f3464b90>"
            ]
          },
          "metadata": {
            "tags": []
          },
          "execution_count": 15
        }
      ]
    },
    {
      "cell_type": "code",
      "metadata": {
        "id": "G-VJ0iH7bk8a"
      },
      "source": [
        "#create the testing data set\n",
        "#create a new array containing scaled values from index 2156 to 2796\n",
        "test_data = scaled_data[training_data_len -60: , :]\n",
        "\n",
        "x_test = []\n",
        "y_test = dataset[training_data_len:, :]\n",
        "for i in range(60, len(test_data)):\n",
        "  x_test.append(test_data[i - 60: i, 0])"
      ],
      "execution_count": 16,
      "outputs": []
    },
    {
      "cell_type": "code",
      "metadata": {
        "id": "y3TrM1dsbqRX"
      },
      "source": [
        "#convert the data to a numpy array\n",
        "x_test = np.array(x_test)"
      ],
      "execution_count": 17,
      "outputs": []
    },
    {
      "cell_type": "code",
      "metadata": {
        "id": "ymuKQKgLdSvr"
      },
      "source": [
        "#Reshape the data\n",
        "x_test = np.reshape(x_test, (x_test.shape[0], x_test.shape[1], 1))"
      ],
      "execution_count": 18,
      "outputs": []
    },
    {
      "cell_type": "code",
      "metadata": {
        "id": "F-jZi76fdrfU"
      },
      "source": [
        "#Get the models predicted price values\n",
        "predictions = model.predict(x_test)\n",
        "predictions = scaler.inverse_transform(predictions)"
      ],
      "execution_count": 19,
      "outputs": []
    },
    {
      "cell_type": "code",
      "metadata": {
        "colab": {
          "base_uri": "https://localhost:8080/"
        },
        "id": "jvVDjrPqeHm3",
        "outputId": "fdc7a530-0be3-4dc2-c4dc-58d08fa3797f"
      },
      "source": [
        "#Get the root mean squared error(RMSE)\n",
        "rmse = np.sqrt(np.mean(predictions - y_test)**2)\n",
        "rmse"
      ],
      "execution_count": 20,
      "outputs": [
        {
          "output_type": "execute_result",
          "data": {
            "text/plain": [
              "2.4411305363743043"
            ]
          },
          "metadata": {
            "tags": []
          },
          "execution_count": 20
        }
      ]
    },
    {
      "cell_type": "code",
      "metadata": {
        "colab": {
          "base_uri": "https://localhost:8080/",
          "height": 918
        },
        "id": "Sfht7jfveeJ4",
        "outputId": "87f338e0-9cfc-4b3d-941f-f43d411f21a6"
      },
      "source": [
        "#Plot the data\n",
        "train = data[: training_data_len]\n",
        "valid = data[training_data_len:]\n",
        "valid['Predictions'] = predictions\n",
        "#Visualize the data\n",
        "plt.figure(figsize=(16, 8))\n",
        "plt.title('Model')\n",
        "plt.xlabel('Date', fontsize = 18)\n",
        "plt.ylabel('Close Price USD($)', fontsize = 18)\n",
        "plt.plot(train['Close'])\n",
        "plt.plot(valid[['Close', 'Predictions']])\n",
        "plt.legend(['Train', 'Predictions', 'Val'], loc = '0')\n",
        "plt.show()"
      ],
      "execution_count": 30,
      "outputs": [
        {
          "output_type": "stream",
          "text": [
            "/usr/local/lib/python3.7/dist-packages/ipykernel_launcher.py:4: SettingWithCopyWarning: \n",
            "A value is trying to be set on a copy of a slice from a DataFrame.\n",
            "Try using .loc[row_indexer,col_indexer] = value instead\n",
            "\n",
            "See the caveats in the documentation: https://pandas.pydata.org/pandas-docs/stable/user_guide/indexing.html#returning-a-view-versus-a-copy\n",
            "  after removing the cwd from sys.path.\n",
            "/usr/local/lib/python3.7/dist-packages/ipykernel_launcher.py:12: MatplotlibDeprecationWarning: Unrecognized location '0'. Falling back on 'best'; valid locations are\n",
            "\tbest\n",
            "\tupper right\n",
            "\tupper left\n",
            "\tlower left\n",
            "\tlower right\n",
            "\tright\n",
            "\tcenter left\n",
            "\tcenter right\n",
            "\tlower center\n",
            "\tupper center\n",
            "\tcenter\n",
            "This will raise an exception in 3.3.\n",
            "  if sys.path[0] == '':\n"
          ],
          "name": "stderr"
        },
        {
          "output_type": "display_data",
          "data": {
            "image/png": "[encoded data removed]",
            "text/plain": [
              "<Figure size 1152x576 with 1 Axes>"
            ]
          },
          "metadata": {
            "tags": []
          }
        }
      ]
    },
    {
      "cell_type": "code",
      "metadata": {
        "colab": {
          "base_uri": "https://localhost:8080/",
          "height": 450
        },
        "id": "0XoLWOw9fuI3",
        "outputId": "d6f74821-f69d-4bef-bac2-94233da1f366"
      },
      "source": [
        "#show the valid and predited prices\n",
        "valid"
      ],
      "execution_count": 27,
      "outputs": [
        {
          "output_type": "execute_result",
          "data": {
            "text/html": [
              "<div>\n",
              "<style scoped>\n",
              "    .dataframe tbody tr th:only-of-type {\n",
              "        vertical-align: middle;\n",
              "    }\n",
              "\n",
              "    .dataframe tbody tr th {\n",
              "        vertical-align: top;\n",
              "    }\n",
              "\n",
              "    .dataframe thead th {\n",
              "        text-align: right;\n",
              "    }\n",
              "</style>\n",
              "<table border=\"1\" class=\"dataframe\">\n",
              "  <thead>\n",
              "    <tr style=\"text-align: right;\">\n",
              "      <th></th>\n",
              "      <th>Close</th>\n",
              "      <th>Predictions</th>\n",
              "    </tr>\n",
              "    <tr>\n",
              "      <th>Date</th>\n",
              "      <th></th>\n",
              "      <th></th>\n",
              "    </tr>\n",
              "  </thead>\n",
              "  <tbody>\n",
              "    <tr>\n",
              "      <th>2018-10-22</th>\n",
              "      <td>55.162498</td>\n",
              "      <td>53.970650</td>\n",
              "    </tr>\n",
              "    <tr>\n",
              "      <th>2018-10-23</th>\n",
              "      <td>55.682499</td>\n",
              "      <td>53.959423</td>\n",
              "    </tr>\n",
              "    <tr>\n",
              "      <th>2018-10-24</th>\n",
              "      <td>53.772499</td>\n",
              "      <td>54.044521</td>\n",
              "    </tr>\n",
              "    <tr>\n",
              "      <th>2018-10-25</th>\n",
              "      <td>54.950001</td>\n",
              "      <td>53.951679</td>\n",
              "    </tr>\n",
              "    <tr>\n",
              "      <th>2018-10-26</th>\n",
              "      <td>54.075001</td>\n",
              "      <td>53.917648</td>\n",
              "    </tr>\n",
              "    <tr>\n",
              "      <th>...</th>\n",
              "      <td>...</td>\n",
              "      <td>...</td>\n",
              "    </tr>\n",
              "    <tr>\n",
              "      <th>2020-12-24</th>\n",
              "      <td>131.970001</td>\n",
              "      <td>122.505577</td>\n",
              "    </tr>\n",
              "    <tr>\n",
              "      <th>2020-12-28</th>\n",
              "      <td>136.690002</td>\n",
              "      <td>123.284225</td>\n",
              "    </tr>\n",
              "    <tr>\n",
              "      <th>2020-12-29</th>\n",
              "      <td>134.869995</td>\n",
              "      <td>124.490387</td>\n",
              "    </tr>\n",
              "    <tr>\n",
              "      <th>2020-12-30</th>\n",
              "      <td>133.720001</td>\n",
              "      <td>125.509933</td>\n",
              "    </tr>\n",
              "    <tr>\n",
              "      <th>2020-12-31</th>\n",
              "      <td>132.690002</td>\n",
              "      <td>126.196114</td>\n",
              "    </tr>\n",
              "  </tbody>\n",
              "</table>\n",
              "<p>553 rows × 2 columns</p>\n",
              "</div>"
            ],
            "text/plain": [
              "                 Close  Predictions\n",
              "Date                               \n",
              "2018-10-22   55.162498    53.970650\n",
              "2018-10-23   55.682499    53.959423\n",
              "2018-10-24   53.772499    54.044521\n",
              "2018-10-25   54.950001    53.951679\n",
              "2018-10-26   54.075001    53.917648\n",
              "...                ...          ...\n",
              "2020-12-24  131.970001   122.505577\n",
              "2020-12-28  136.690002   123.284225\n",
              "2020-12-29  134.869995   124.490387\n",
              "2020-12-30  133.720001   125.509933\n",
              "2020-12-31  132.690002   126.196114\n",
              "\n",
              "[553 rows x 2 columns]"
            ]
          },
          "metadata": {
            "tags": []
          },
          "execution_count": 27
        }
      ]
    },
    {
      "cell_type": "code",
      "metadata": {
        "colab": {
          "base_uri": "https://localhost:8080/"
        },
        "id": "iFoJoDT1gue5",
        "outputId": "0596cfa5-bf75-4658-fb51-e7cc8b2342ac"
      },
      "source": [
        "#Get the quote\n",
        "apple_quote = web.DataReader('AAPL', data_source='yahoo', start='2010-01-01', end = '2020-12-31')\n",
        "#create a new dataframe\n",
        "new_df = apple_quote.filter(['Close'])\n",
        "#Get the last 60 day closing price values and convert the dataframe to an array\n",
        "last_60_days = new_df[-60:].values\n",
        "#scale the data to be values between 0 and 1\n",
        "last_60_days_scaled = scaler.transform(last_60_days)\n",
        "#create an empty list\n",
        "X_test = []\n",
        "#Append the past 60 days\n",
        "X_test.append(last_60_days_scaled)\n",
        "#convert the X_test data set to a numpy array\n",
        "X_test = np.array(X_test)\n",
        "#Reshape the data\n",
        "X_test = np.reshape(X_test, (X_test.shape[0], X_test.shape[1], 1))\n",
        "#Get the predicted data\n",
        "pred_price = model.predict(X_test)\n",
        "#undo the scaling\n",
        "pred_price = scaler.inverse_transform(pred_price)\n",
        "print(pred_price)"
      ],
      "execution_count": null,
      "outputs": [
        {
          "output_type": "stream",
          "text": [
            "[[133.28226]]\n"
          ],
          "name": "stdout"
        }
      ]
    },
    {
      "cell_type": "code",
      "metadata": {
        "colab": {
          "base_uri": "https://localhost:8080/"
        },
        "id": "YmrwF6c2ieKt",
        "outputId": "572305ac-2bf4-4c62-efcf-26162fb52d73"
      },
      "source": [
        "apple_quote2 = web.DataReader('AAPL', data_source='yahoo', start= '2021-01-04', end = '2021-01-04'\n",
        ")\n",
        "print(apple_quote2['Close'])"
      ],
      "execution_count": null,
      "outputs": [
        {
          "output_type": "stream",
          "text": [
            "Date\n",
            "2021-01-04    129.410004\n",
            "Name: Close, dtype: float64\n"
          ],
          "name": "stdout"
        }
      ]
    },
    {
      "cell_type": "code",
      "metadata": {
        "id": "u-bc8y4zjNbQ"
      },
      "source": [
        "#compare 133.28226(predicted value) and 129.410004(actual value )\n",
        "#Task finished"
      ],
      "execution_count": null,
      "outputs": []
    },
    {
      "cell_type": "code",
      "metadata": {
        "id": "0u134RMmj_0g"
      },
      "source": [
        ""
      ],
      "execution_count": null,
      "outputs": []
    }
  ]
}